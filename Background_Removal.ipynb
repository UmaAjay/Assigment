{
  "nbformat": 4,
  "nbformat_minor": 0,
  "metadata": {
    "colab": {
      "provenance": [],
      "include_colab_link": true
    },
    "kernelspec": {
      "name": "python3",
      "display_name": "Python 3"
    },
    "accelerator": "GPU"
  },
  "cells": [
    {
      "cell_type": "markdown",
      "metadata": {
        "id": "view-in-github",
        "colab_type": "text"
      },
      "source": [
        "<a href=\"https://colab.research.google.com/github/UmaAjay/Assigment/blob/main/Background_Removal.ipynb\" target=\"_parent\"><img src=\"https://colab.research.google.com/assets/colab-badge.svg\" alt=\"Open In Colab\"/></a>"
      ]
    },
    {
      "cell_type": "markdown",
      "metadata": {
        "id": "I5cZEZcvBXNP"
      },
      "source": [
        "## Prepare videos\n",
        "\n",
        "You can upload your own video as `src.mp4` and `bgr.png` using the left panel.\n",
        "\n",
        "Or download our example video using the commands below. More example videos are available at [Google Drive](https://drive.google.com/drive/folders/16H6Vz3294J-DEzauw06j4IUARRqYGgRD?usp=sharing) and [Google Drive](https://drive.google.com/drive/folders/1j3BMrRFhFpfzJAe6P2WDtfanoeSCLPiq)."
      ]
    },
    {
      "cell_type": "code",
      "metadata": {
        "id": "wmUi0Pl3B_at"
      },
      "source": [
        "!gdown https://drive.google.com/uc?id=1tCEk8FE3WGrr49cdL8qMCqHptMCAtHRU -O /content/src.mp4 -q\n",
        "!gdown https://drive.google.com/uc?id=1wAR3JjnTO60B_DUr7ruIJj0Z2pcIGkyP -O /content/bgr.png -q"
      ],
      "execution_count": 7,
      "outputs": []
    },
    {
      "cell_type": "markdown",
      "metadata": {
        "id": "X6Wnql6VC9sr"
      },
      "source": [
        "## Matting"
      ]
    },
    {
      "cell_type": "markdown",
      "metadata": {
        "id": "LFMf2xRyN2N-"
      },
      "source": [
        "Download model file. Below we download `pytorch_resnet50.pth`. All of our model files are available at [Google Drive](https://drive.google.com/drive/folders/1cbetlrKREitIgjnIikG1HdM4x72FtgBh?usp=sharing)."
      ]
    },
    {
      "cell_type": "code",
      "metadata": {
        "id": "FZcSXSoiNNOu"
      },
      "source": [
        "!gdown https://drive.google.com/uc?id=1ErIAsB_miVhYL9GDlYUmfbqlV293mSYf -O model.pth -q"
      ],
      "execution_count": 8,
      "outputs": []
    },
    {
      "cell_type": "code",
      "metadata": {
        "colab": {
          "base_uri": "https://localhost:8080/"
        },
        "id": "8NUspY9nMZXF",
        "outputId": "38decd23-1828-4077-d289-c51ed111e6ca"
      },
      "source": [
        "!git clone -q https://github.com/PeterL1n/BackgroundMattingV2\n",
        "# !git clone -q https://github.com/misbah4064/BackgroundMattingV2.git\n",
        "%cd BackgroundMattingV2"
      ],
      "execution_count": 9,
      "outputs": [
        {
          "output_type": "stream",
          "name": "stdout",
          "text": [
            "/content/BackgroundMattingV2/BackgroundMattingV2\n"
          ]
        }
      ]
    },
    {
      "cell_type": "markdown",
      "metadata": {
        "id": "rDn33_xrOJew"
      },
      "source": [
        "Use the `inference_video.py` script for converting videos.\n",
        "\n",
        "More advanced cases:\n",
        "\n",
        "*   If you want to export as image sequences instead of videos, add `--output-format image_sequences` flag.\n",
        "*   If your video is handheld, add `--preprocess-alignment` flag.\n",
        "*   Below script will output `com` composition, `pha` alpha, `fgr` foreground, `err` error prediction map, and `ref` refinement selection map. If you just want the final results, feel free to remove those outputs for faster conversion speed.\n",
        "\n",
        "*Note: The conversion script in python only uses CPU encoding/decoding and incurs additional cost for CPU-GPU data transfering. Therefore it is not real-time.*\n"
      ]
    },
    {
      "cell_type": "code",
      "metadata": {
        "id": "2UrkyB5jMbOk",
        "colab": {
          "base_uri": "https://localhost:8080/"
        },
        "outputId": "669caaa3-3e59-4eb8-dd7e-feb9c9f50ada"
      },
      "source": [
        "!python inference_video.py \\\n",
        "        --model-type mattingrefine \\\n",
        "        --model-backbone resnet50 \\\n",
        "        --model-backbone-scale 0.25 \\\n",
        "        --model-refine-mode sampling \\\n",
        "        --model-refine-sample-pixels 80000 \\\n",
        "        --model-checkpoint \"/content/model.pth\" \\\n",
        "        --video-src \"/content/src.mp4\" \\\n",
        "        --video-bgr \"/content/bgr.png\" \\\n",
        "        --output-dir \"/content/output/\" \\\n",
        "        --output-type com fgr pha err ref"
      ],
      "execution_count": 10,
      "outputs": [
        {
          "output_type": "stream",
          "name": "stdout",
          "text": [
            "Directory /content/output/ already exists. Override? [Y/N]: Y\n",
            "100% 660/660 [02:47<00:00,  3.95it/s]\n"
          ]
        }
      ]
    }
  ]
}